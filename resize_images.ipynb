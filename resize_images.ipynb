{
  "nbformat": 4,
  "nbformat_minor": 0,
  "metadata": {
    "colab": {
      "provenance": [],
      "authorship_tag": "ABX9TyOh14XVXtHGPtFwEPKH71B/",
      "include_colab_link": true
    },
    "kernelspec": {
      "name": "python3",
      "display_name": "Python 3"
    },
    "language_info": {
      "name": "python"
    }
  },
  "cells": [
    {
      "cell_type": "markdown",
      "metadata": {
        "id": "view-in-github",
        "colab_type": "text"
      },
      "source": [
        "<a href=\"https://colab.research.google.com/github/huckfive/ImageClassification/blob/main/resize_images.ipynb\" target=\"_parent\"><img src=\"https://colab.research.google.com/assets/colab-badge.svg\" alt=\"Open In Colab\"/></a>"
      ]
    },
    {
      "cell_type": "code",
      "execution_count": 6,
      "metadata": {
        "colab": {
          "base_uri": "https://localhost:8080/"
        },
        "id": "HHu4TTFkLqLB",
        "outputId": "591de4d4-3525-4141-b20e-11c4951d2ff7"
      },
      "outputs": [
        {
          "output_type": "stream",
          "name": "stdout",
          "text": [
            "Resized and saved: output_folder/np0024.JPG\n",
            "Resized and saved: output_folder/np10.JPG\n",
            "Resized and saved: output_folder/np0001.JPG\n",
            "Resized and saved: output_folder/np05.JPG\n",
            "Resized and saved: output_folder/np02.JPG\n",
            "Resized and saved: output_folder/pl01.JPG\n",
            "Resized and saved: output_folder/np15.JPG\n",
            "Resized and saved: output_folder/np07.JPG\n",
            "Resized and saved: output_folder/np0023.JPG\n",
            "Resized and saved: output_folder/np0010.JPG\n",
            "Resized and saved: output_folder/np0022.JPG\n",
            "Resized and saved: output_folder/np14.JPG\n",
            "Resized and saved: output_folder/np0011.JPG\n",
            "Resized and saved: output_folder/np0020.JPG\n",
            "Resized and saved: output_folder/np0015.JPG\n",
            "Resized and saved: output_folder/np08.JPG\n",
            "Resized and saved: output_folder/np0013.JPG\n",
            "Resized and saved: output_folder/np0014.JPG\n",
            "Resized and saved: output_folder/np0029.JPG\n",
            "Resized and saved: output_folder/np0027.JPG\n",
            "Resized and saved: output_folder/np0025.JPG\n",
            "Resized and saved: output_folder/np0002.JPG\n",
            "Resized and saved: output_folder/pl02.JPG\n",
            "Resized and saved: output_folder/np0026.JPG\n",
            "Resized and saved: output_folder/np0021.JPG\n",
            "Resized and saved: output_folder/np06.JPG\n",
            "Resized and saved: output_folder/np0006.JPG\n",
            "Resized and saved: output_folder/np0007.JPG\n",
            "Resized and saved: output_folder/np0030.JPG\n",
            "Resized and saved: output_folder/np13.JPG\n",
            "Resized and saved: output_folder/np0009.JPG\n",
            "Resized and saved: output_folder/np0019.JPG\n",
            "Resized and saved: output_folder/np12.JPG\n",
            "Resized and saved: output_folder/np0004.JPG\n",
            "Resized and saved: output_folder/np0012.JPG\n",
            "Resized and saved: output_folder/np0017.JPG\n",
            "Resized and saved: output_folder/np01.JPG\n",
            "Resized and saved: output_folder/np03.JPG\n",
            "Resized and saved: output_folder/np11.JPG\n",
            "Resized and saved: output_folder/np0005.JPG\n",
            "Resized and saved: output_folder/np09.JPG\n",
            "Resized and saved: output_folder/np0018.JPG\n",
            "Resized and saved: output_folder/np0028.JPG\n",
            "Resized and saved: output_folder/np0016.JPG\n",
            "Resized and saved: output_folder/np0003.JPG\n",
            "Resized and saved: output_folder/np0008.JPG\n"
          ]
        }
      ],
      "source": [
        "import os\n",
        "import cv2\n",
        "\n",
        "def resize_images(input_folder, output_folder, new_width=None, new_height=None, maintain_aspect_ratio=True):\n",
        "    # Supported image extensions\n",
        "    valid_extensions = ('.jpg', '.jpeg', '.png', '.bmp', '.tiff', '.tif', '.gif')\n",
        "\n",
        "    # Ensure output directory exists\n",
        "    if not os.path.exists(output_folder):\n",
        "        os.makedirs(output_folder)\n",
        "\n",
        "    # Process each file in the input directory\n",
        "    for filename in os.listdir(input_folder):\n",
        "        # Check for valid image file extension\n",
        "        if not filename.lower().endswith(valid_extensions):\n",
        "            print(f\"Skipping non-image file: {filename}\")\n",
        "            continue\n",
        "\n",
        "        # Construct full file path\n",
        "        img_path = os.path.join(input_folder, filename)\n",
        "\n",
        "        # Read the image\n",
        "        img = cv2.imread(img_path)\n",
        "        if img is None:\n",
        "            print(f\"Failed to read image: {img_path}\")\n",
        "            continue\n",
        "\n",
        "        # Get original dimensions\n",
        "        height, width = img.shape[:2]\n",
        "\n",
        "        # Determine new dimensions\n",
        "        if maintain_aspect_ratio:\n",
        "            if new_width and new_height:\n",
        "                # Calculate aspect ratio of original and desired dimensions\n",
        "                aspect_ratio = width / height\n",
        "                desired_aspect = new_width / new_height\n",
        "\n",
        "                if aspect_ratio > desired_aspect:\n",
        "                    # Image is wider than desired aspect ratio\n",
        "                    scale = new_width / width\n",
        "                else:\n",
        "                    # Image is taller than desired aspect ratio\n",
        "                    scale = new_height / height\n",
        "            elif new_width:\n",
        "                scale = new_width / width\n",
        "            elif new_height:\n",
        "                scale = new_height / height\n",
        "            else:\n",
        "                scale = 1  # No resizing needed\n",
        "\n",
        "            # Calculate new dimensions\n",
        "            resized_width = int(width * scale)\n",
        "            resized_height = int(height * scale)\n",
        "        else:\n",
        "            # Resize without maintaining aspect ratio\n",
        "            resized_width = new_width if new_width else width\n",
        "            resized_height = new_height if new_height else height\n",
        "\n",
        "        # Resize the image\n",
        "        resized_img = cv2.resize(img, (resized_width, resized_height), interpolation=cv2.INTER_AREA)\n",
        "\n",
        "        # Save the resized image\n",
        "        output_path = os.path.join(output_folder, filename)\n",
        "        cv2.imwrite(output_path, resized_img)\n",
        "        print(f\"Resized and saved: {output_path}\")\n",
        "\n",
        "if __name__ == \"__main__\":\n",
        "    # User-defined parameters\n",
        "    input_folder = 'input_folder'     # Replace with your input folder path\n",
        "    output_folder = 'output_folder'   # Replace with your output folder path\n",
        "    new_width = 800                           # Set to None if you want to specify only height\n",
        "    new_height = None                         # Set to None if you want to specify only width\n",
        "    maintain_aspect_ratio = True              # Set to False to ignore aspect ratio\n",
        "\n",
        "    resize_images(input_folder, output_folder, new_width, new_height, maintain_aspect_ratio)\n"
      ]
    },
    {
      "cell_type": "code",
      "source": [
        "import shutil\n",
        "\n",
        "# Path to the folder you want to download\n",
        "output_folder = \"output_folder\"  # Replace with your folder path\n",
        "\n",
        "# Name of the zip file\n",
        "zip_file = \"output_images.zip\"\n",
        "\n",
        "# Compress the folder\n",
        "shutil.make_archive(\"output_images\", 'zip', output_folder)\n"
      ],
      "metadata": {
        "colab": {
          "base_uri": "https://localhost:8080/",
          "height": 35
        },
        "id": "0tWggck-QIQJ",
        "outputId": "6a22d97e-c4cb-4e06-c3ae-c53c2dfc9bd0"
      },
      "execution_count": 7,
      "outputs": [
        {
          "output_type": "execute_result",
          "data": {
            "text/plain": [
              "'/content/output_images.zip'"
            ],
            "application/vnd.google.colaboratory.intrinsic+json": {
              "type": "string"
            }
          },
          "metadata": {},
          "execution_count": 7
        }
      ]
    },
    {
      "cell_type": "code",
      "source": [
        "!rm -rf input_folder/\n",
        "!rm -rf output_folder/"
      ],
      "metadata": {
        "id": "rYWRTEAiSUhp"
      },
      "execution_count": 5,
      "outputs": []
    }
  ]
}