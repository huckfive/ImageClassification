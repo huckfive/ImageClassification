{
  "nbformat": 4,
  "nbformat_minor": 0,
  "metadata": {
    "colab": {
      "provenance": [],
      "authorship_tag": "ABX9TyOeZ4lZ+3f28TqtscwX7lSq",
      "include_colab_link": true
    },
    "kernelspec": {
      "name": "python3",
      "display_name": "Python 3"
    },
    "language_info": {
      "name": "python"
    }
  },
  "cells": [
    {
      "cell_type": "markdown",
      "metadata": {
        "id": "view-in-github",
        "colab_type": "text"
      },
      "source": [
        "<a href=\"https://colab.research.google.com/github/huckfive/ImageClassification/blob/main/resize_images.ipynb\" target=\"_parent\"><img src=\"https://colab.research.google.com/assets/colab-badge.svg\" alt=\"Open In Colab\"/></a>"
      ]
    },
    {
      "cell_type": "code",
      "execution_count": 2,
      "metadata": {
        "colab": {
          "base_uri": "https://localhost:8080/"
        },
        "id": "HHu4TTFkLqLB",
        "outputId": "b8f41f5d-0f9b-439f-dfe4-e04b48c65583"
      },
      "outputs": [
        {
          "output_type": "stream",
          "name": "stdout",
          "text": [
            "Resized and saved: output_folder/p0003.JPG\n",
            "Resized and saved: output_folder/p0029.JPG\n",
            "Resized and saved: output_folder/p0026.JPG\n",
            "Resized and saved: output_folder/p0027.JPG\n",
            "Resized and saved: output_folder/p0030.JPG\n",
            "Resized and saved: output_folder/p0014.JPG\n",
            "Resized and saved: output_folder/p0019.JPG\n",
            "Resized and saved: output_folder/p0022.JPG\n",
            "Resized and saved: output_folder/p0015.JPG\n",
            "Resized and saved: output_folder/p0017.JPG\n",
            "Resized and saved: output_folder/p0006.JPG\n",
            "Resized and saved: output_folder/p0028.JPG\n",
            "Resized and saved: output_folder/p0012.JPG\n",
            "Resized and saved: output_folder/p0008.JPG\n",
            "Resized and saved: output_folder/p0002.JPG\n",
            "Resized and saved: output_folder/p0024.JPG\n",
            "Resized and saved: output_folder/p0020.JPG\n",
            "Resized and saved: output_folder/p0025.JPG\n",
            "Resized and saved: output_folder/p0010.JPG\n",
            "Resized and saved: output_folder/p0001.JPG\n",
            "Resized and saved: output_folder/p0011.JPG\n",
            "Resized and saved: output_folder/p0023.JPG\n",
            "Resized and saved: output_folder/p0007.JPG\n",
            "Resized and saved: output_folder/p0004.JPG\n",
            "Resized and saved: output_folder/p0016.JPG\n",
            "Resized and saved: output_folder/p0013.JPG\n",
            "Resized and saved: output_folder/p0009.JPG\n",
            "Resized and saved: output_folder/p0021.JPG\n",
            "Resized and saved: output_folder/p0018.JPG\n"
          ]
        }
      ],
      "source": [
        "import os\n",
        "import cv2\n",
        "\n",
        "def resize_images(input_folder, output_folder, new_width=None, new_height=None, maintain_aspect_ratio=True):\n",
        "    # Supported image extensions\n",
        "    valid_extensions = ('.jpg', '.jpeg', '.png', '.bmp', '.tiff', '.tif', '.gif')\n",
        "\n",
        "    # Ensure output directory exists\n",
        "    if not os.path.exists(output_folder):\n",
        "        os.makedirs(output_folder)\n",
        "\n",
        "    # Process each file in the input directory\n",
        "    for filename in os.listdir(input_folder):\n",
        "        # Check for valid image file extension\n",
        "        if not filename.lower().endswith(valid_extensions):\n",
        "            print(f\"Skipping non-image file: {filename}\")\n",
        "            continue\n",
        "\n",
        "        # Construct full file path\n",
        "        img_path = os.path.join(input_folder, filename)\n",
        "\n",
        "        # Read the image\n",
        "        img = cv2.imread(img_path)\n",
        "        if img is None:\n",
        "            print(f\"Failed to read image: {img_path}\")\n",
        "            continue\n",
        "\n",
        "        # Get original dimensions\n",
        "        height, width = img.shape[:2]\n",
        "\n",
        "        # Determine new dimensions\n",
        "        if maintain_aspect_ratio:\n",
        "            if new_width and new_height:\n",
        "                # Calculate aspect ratio of original and desired dimensions\n",
        "                aspect_ratio = width / height\n",
        "                desired_aspect = new_width / new_height\n",
        "\n",
        "                if aspect_ratio > desired_aspect:\n",
        "                    # Image is wider than desired aspect ratio\n",
        "                    scale = new_width / width\n",
        "                else:\n",
        "                    # Image is taller than desired aspect ratio\n",
        "                    scale = new_height / height\n",
        "            elif new_width:\n",
        "                scale = new_width / width\n",
        "            elif new_height:\n",
        "                scale = new_height / height\n",
        "            else:\n",
        "                scale = 1  # No resizing needed\n",
        "\n",
        "            # Calculate new dimensions\n",
        "            resized_width = int(width * scale)\n",
        "            resized_height = int(height * scale)\n",
        "        else:\n",
        "            # Resize without maintaining aspect ratio\n",
        "            resized_width = new_width if new_width else width\n",
        "            resized_height = new_height if new_height else height\n",
        "\n",
        "        # Resize the image\n",
        "        resized_img = cv2.resize(img, (resized_width, resized_height), interpolation=cv2.INTER_AREA)\n",
        "\n",
        "        # Save the resized image\n",
        "        output_path = os.path.join(output_folder, filename)\n",
        "        cv2.imwrite(output_path, resized_img)\n",
        "        print(f\"Resized and saved: {output_path}\")\n",
        "\n",
        "if __name__ == \"__main__\":\n",
        "    # User-defined parameters\n",
        "    input_folder = 'input_folder'     # Replace with your input folder path\n",
        "    output_folder = 'output_folder'   # Replace with your output folder path\n",
        "    new_width = 800                           # Set to None if you want to specify only height\n",
        "    new_height = None                         # Set to None if you want to specify only width\n",
        "    maintain_aspect_ratio = True              # Set to False to ignore aspect ratio\n",
        "\n",
        "    resize_images(input_folder, output_folder, new_width, new_height, maintain_aspect_ratio)\n"
      ]
    }
  ]
}