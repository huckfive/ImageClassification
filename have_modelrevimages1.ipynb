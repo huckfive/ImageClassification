{
  "nbformat": 4,
  "nbformat_minor": 0,
  "metadata": {
    "colab": {
      "provenance": [],
      "authorship_tag": "ABX9TyMIrjpwa696r9VEHAtDWn11",
      "include_colab_link": true
    },
    "kernelspec": {
      "name": "python3",
      "display_name": "Python 3"
    },
    "language_info": {
      "name": "python"
    }
  },
  "cells": [
    {
      "cell_type": "markdown",
      "metadata": {
        "id": "view-in-github",
        "colab_type": "text"
      },
      "source": [
        "<a href=\"https://colab.research.google.com/github/huckfive/ImageClassification/blob/main/have_modelrevimages1.ipynb\" target=\"_parent\"><img src=\"https://colab.research.google.com/assets/colab-badge.svg\" alt=\"Open In Colab\"/></a>"
      ]
    },
    {
      "cell_type": "markdown",
      "source": [
        "If you already have your own pretrained model, you can integrate it into the image classification workflow. Below is an updated Python program to load and use your **custom pretrained model** for classifying images in a folder.\n",
        "\n",
        "This assumes:\n",
        "1. Your model is saved in a format like **HDF5** (`model.h5`) or TensorFlow SavedModel format.\n",
        "2. You already know the preprocessing requirements of your model.\n",
        "\n",
        "Here’s the updated code:\n",
        "\n",
        "### Key Changes:\n",
        "1. **Custom Pretrained Model**: The script loads your model using `tf.keras.models.load_model(model_path)`.\n",
        "2. **Preprocessing**: Image normalization (`img_array /= 255.0`) is applied. Adjust based on your model's needs.\n",
        "3. **Prediction**: The script outputs the predicted class index. Replace this with a label mapping if you have class names.\n",
        "\n",
        "### How to Use:\n",
        "1. Replace `path_to_your_model/model.h5` with the path to your pretrained model.\n",
        "2. Update `target_size` to match your model's input dimensions (e.g., `(224, 224)`).\n",
        "3. Update the directory path containing images to classify.\n",
        "\n",
        "Let me know if you need help with integrating a custom label mapping or further adjustments! 🚀"
      ],
      "metadata": {
        "id": "qG2fuJ63piyT"
      }
    },
    {
      "cell_type": "code",
      "source": [
        "import os\n",
        "import numpy as np\n",
        "import tensorflow as tf\n",
        "from tensorflow.keras.preprocessing import image\n",
        "\n",
        "def load_custom_model(model_path):\n",
        "    \"\"\"\n",
        "    Load the pretrained model from the given path.\n",
        "    \"\"\"\n",
        "    try:\n",
        "        model = tf.keras.models.load_model('my_model')\n",
        "        print(\"Model loaded successfully.\")\n",
        "        return model\n",
        "    except Exception as e:\n",
        "        print(f\"Error loading model: {e}\")\n",
        "        return None\n",
        "\n",
        "def preprocess_image(image_path, target_size):\n",
        "    \"\"\"\n",
        "    Preprocess an image to the required format for the model.\n",
        "    \"\"\"\n",
        "    try:\n",
        "        img = image.load_img(image_path, target_size=target_size)\n",
        "        img_array = image.img_to_array(img)\n",
        "        img_array = np.expand_dims(img_array, axis=0)\n",
        "        img_array /= 255.0  # Normalize the image (adjust as per your model's requirements)\n",
        "        return img_array\n",
        "    except Exception as e:\n",
        "        print(f\"Error processing image {image_path}: {e}\")\n",
        "        return None\n",
        "\n",
        "def classify_images(directory, model_path, target_size):\n",
        "    \"\"\"\n",
        "    Classify images in a directory using a pretrained custom model.\n",
        "    \"\"\"\n",
        "    # Load the pretrained model\n",
        "    model = load_custom_model(model_path)\n",
        "    if not model:\n",
        "        return\n",
        "\n",
        "    # Check if the directory exists\n",
        "    if not os.path.exists(directory):\n",
        "        print(f\"Error: Directory {directory} does not exist.\")\n",
        "        return\n",
        "\n",
        "    # Loop through all files in the directory\n",
        "    for file_name in os.listdir(directory):\n",
        "        file_path = os.path.join(directory, file_name)\n",
        "\n",
        "        if file_name.lower().endswith(('png', 'jpg', 'jpeg')):\n",
        "            # Preprocess the image\n",
        "            img_array = preprocess_image(file_path, target_size)\n",
        "            if img_array is not None:\n",
        "                # Predict the class of the image\n",
        "                predictions = model.predict(img_array)\n",
        "                predicted_class = np.argmax(predictions, axis=1)\n",
        "\n",
        "                # Print results (adjust labels if you have a custom label map)\n",
        "                print(f\"\\nImage: {file_name}\")\n",
        "                print(f\"Predicted Class: {predicted_class}\")\n",
        "        else:\n",
        "            print(f\"Skipping non-image file: {file_name}\")\n",
        "\n",
        "if __name__ == \"__main__\":\n",
        "    # Path to your pretrained model\n",
        "    model_path = \"path_to_your_model/model.h5\"  # Update with your model path\n",
        "\n",
        "    # Directory containing images to classify\n",
        "    image_directory = \"path_to_your_image_directory\"\n",
        "\n",
        "    # Target size for image preprocessing (update as per your model input size)\n",
        "    target_size = (224, 224)  # Example size for many pretrained models\n",
        "\n",
        "    # Run classification\n",
        "    classify_images(image_directory, model_path, target_size)\n"
      ],
      "metadata": {
        "colab": {
          "base_uri": "https://localhost:8080/"
        },
        "id": "hZAc8ynOpoFZ",
        "outputId": "75e33c40-dd31-44e8-880e-0cce7e4dd245"
      },
      "execution_count": 1,
      "outputs": [
        {
          "output_type": "stream",
          "name": "stdout",
          "text": [
            "Error loading model: File format not supported: filepath=my_model. Keras 3 only supports V3 `.keras` files and legacy H5 format files (`.h5` extension). Note that the legacy SavedModel format is not supported by `load_model()` in Keras 3. In order to reload a TensorFlow SavedModel as an inference-only layer in Keras 3, use `keras.layers.TFSMLayer(my_model, call_endpoint='serving_default')` (note that your `call_endpoint` might have a different name).\n"
          ]
        }
      ]
    }
  ]
}